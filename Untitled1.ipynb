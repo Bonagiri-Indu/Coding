{
 "cells": [
  {
   "cell_type": "code",
   "execution_count": 3,
   "id": "2810feba",
   "metadata": {},
   "outputs": [
    {
     "name": "stdout",
     "output_type": "stream",
     "text": [
      "indunandhu\n"
     ]
    }
   ],
   "source": [
    "word1=\"indu\"\n",
    "word2=\"nandhu\"\n",
    "print(word1+word2)"
   ]
  },
  {
   "cell_type": "code",
   "execution_count": 10,
   "id": "9cde9172",
   "metadata": {},
   "outputs": [
    {
     "name": "stdout",
     "output_type": "stream",
     "text": [
      "the string is indu  nandhu\n"
     ]
    }
   ],
   "source": [
    "word1=\"indu\"\n",
    "word2=\"nandhu\"\n",
    "print(f\"the string is {word1+'  '+word2}\")"
   ]
  },
  {
   "cell_type": "code",
   "execution_count": 13,
   "id": "343e8f24",
   "metadata": {},
   "outputs": [
    {
     "name": "stdout",
     "output_type": "stream",
     "text": [
      "reversed string is: olleh\n"
     ]
    }
   ],
   "source": [
    "word=\"hello\"\n",
    "reversed_str=word[::-1]\n",
    "print(f\"reversed string is: {reversed_str}\")"
   ]
  },
  {
   "cell_type": "code",
   "execution_count": 15,
   "id": "643435ac",
   "metadata": {},
   "outputs": [
    {
     "name": "stdout",
     "output_type": "stream",
     "text": [
      "reversed string is: olleh\n"
     ]
    }
   ],
   "source": [
    "word=\"hello\"\n",
    "print(f\"reversed string is: {word[::-1]}\")\n"
   ]
  },
  {
   "cell_type": "code",
   "execution_count": 21,
   "id": "f89e252f",
   "metadata": {},
   "outputs": [
    {
     "name": "stdout",
     "output_type": "stream",
     "text": [
      "reversed string is:  olleh\n"
     ]
    }
   ],
   "source": [
    "word=\"hello\"\n",
    "print(\"reversed string is:  \"  +word[::-1])\n"
   ]
  },
  {
   "cell_type": "code",
   "execution_count": 22,
   "id": "0f445ee4",
   "metadata": {},
   "outputs": [
    {
     "name": "stdout",
     "output_type": "stream",
     "text": [
      "Hello indu nandhu\n"
     ]
    }
   ],
   "source": [
    "word=\"hello indu nandhu\"\n",
    "print(word.capitalize())\n"
   ]
  },
  {
   "cell_type": "code",
   "execution_count": 23,
   "id": "05557777",
   "metadata": {},
   "outputs": [
    {
     "name": "stdout",
     "output_type": "stream",
     "text": [
      "Hello Indu Nandhu\n"
     ]
    }
   ],
   "source": [
    "word=\"hello indu nandhu\"\n",
    "print(word.title())\n"
   ]
  },
  {
   "cell_type": "code",
   "execution_count": 24,
   "id": "97ecc09e",
   "metadata": {},
   "outputs": [
    {
     "name": "stdout",
     "output_type": "stream",
     "text": [
      "the title case string is: Hello Indu Nandhu\n"
     ]
    }
   ],
   "source": [
    "word=\"hello indu nandhu\"\n",
    "print(f\"the title case string is: {word.title()}\")\n"
   ]
  },
  {
   "cell_type": "code",
   "execution_count": 26,
   "id": "fe23aec6",
   "metadata": {},
   "outputs": [
    {
     "name": "stdout",
     "output_type": "stream",
     "text": [
      "dinesh indu nandhu\n"
     ]
    }
   ],
   "source": [
    "word=\"hello indu nandhu\"\n",
    "print(word.replace(\"hello\",\"dinesh\"))"
   ]
  },
  {
   "cell_type": "code",
   "execution_count": 31,
   "id": "4e7ab1ac",
   "metadata": {},
   "outputs": [
    {
     "name": "stdout",
     "output_type": "stream",
     "text": [
      "dinesh laptop new, phone is new\n"
     ]
    }
   ],
   "source": [
    "word=\"dinesh laptop old, phone is old\"\n",
    "print(word.replace(\"old\",\"new\"))"
   ]
  },
  {
   "cell_type": "code",
   "execution_count": 34,
   "id": "c198beff",
   "metadata": {},
   "outputs": [
    {
     "name": "stdout",
     "output_type": "stream",
     "text": [
      "dinesh indu nandhu\n"
     ]
    }
   ],
   "source": [
    "word=\"hello indu nandhu\"\n",
    "replace_word=word.replace(\"hello\",\"dinesh\")\n",
    "print(replace_word)"
   ]
  },
  {
   "cell_type": "code",
   "execution_count": 35,
   "id": "05adc4f4",
   "metadata": {},
   "outputs": [
    {
     "name": "stdout",
     "output_type": "stream",
     "text": [
      "True\n"
     ]
    }
   ],
   "source": [
    "word=\"indu\"\n",
    "print(word.isalpha())"
   ]
  },
  {
   "cell_type": "code",
   "execution_count": 38,
   "id": "34ac0f02",
   "metadata": {},
   "outputs": [
    {
     "name": "stdout",
     "output_type": "stream",
     "text": [
      "enter a word: wertydd\n",
      "True\n"
     ]
    }
   ],
   "source": [
    "word=input(\"enter a word: \")\n",
    "print(word.isalpha())"
   ]
  },
  {
   "cell_type": "code",
   "execution_count": 43,
   "id": "4a85f60b",
   "metadata": {},
   "outputs": [
    {
     "name": "stdout",
     "output_type": "stream",
     "text": [
      "enter a nuber:errdggt\n",
      "all letters alphabets: word='errdggt' \n"
     ]
    }
   ],
   "source": [
    "word=input(\"enter a nuber:\")\n",
    "if word.isalpha()==True:\n",
    "    print(f\"all letters alphabets: {word=} \")\n",
    "else:\n",
    "    print(f\"all letters not alphabets: {word=} \")\n"
   ]
  },
  {
   "cell_type": "code",
   "execution_count": 46,
   "id": "2fe253ab",
   "metadata": {},
   "outputs": [
    {
     "name": "stdout",
     "output_type": "stream",
     "text": [
      "enter a word:yt6576uryt\n",
      "all letters not alphabets: yt6576uryt \n"
     ]
    }
   ],
   "source": [
    "word=input(\"enter a word:\")\n",
    "if word.isalpha():\n",
    "    print(f\"all letters alphabets: {word} \")\n",
    "else:\n",
    "    print(f\"all letters not alphabets: {word} \")\n"
   ]
  },
  {
   "cell_type": "code",
   "execution_count": 48,
   "id": "16cd4380",
   "metadata": {},
   "outputs": [
    {
     "name": "stdout",
     "output_type": "stream",
     "text": [
      "enter a nuber:5656tryfu5686\n",
      "all letters alphabets: 5656tryfu5686 \n"
     ]
    }
   ],
   "source": [
    "word=input(\"enter a nuber:\")\n",
    "if True:\n",
    "    print(f\"all letters alphabets: {word} \")\n",
    "else:\n",
    "    print(f\"all letters not alphabets: {word} \")\n"
   ]
  },
  {
   "cell_type": "code",
   "execution_count": null,
   "id": "95726622",
   "metadata": {},
   "outputs": [],
   "source": [
    "word=input(\"enter a nuber:\")\n",
    "if False:\n",
    "    print(f\"all letters alphabets: {word} \")\n",
    "else:\n",
    "    print(f\"all letters not alphabets: {word} \")\n"
   ]
  },
  {
   "cell_type": "code",
   "execution_count": null,
   "id": "1fe6db57",
   "metadata": {},
   "outputs": [],
   "source": [
    "word=input(\"enter a nuber:\")\n",
    "if True:\n",
    "    print(f\"all letters alphabets: {word} \")\n",
    "else:\n",
    "    print(f\"all letters not alphabets: {word} \")\n"
   ]
  },
  {
   "cell_type": "code",
   "execution_count": null,
   "id": "25bfad69",
   "metadata": {},
   "outputs": [],
   "source": []
  },
  {
   "cell_type": "code",
   "execution_count": null,
   "id": "057547c3",
   "metadata": {},
   "outputs": [],
   "source": []
  }
 ],
 "metadata": {
  "kernelspec": {
   "display_name": "Python 3 (ipykernel)",
   "language": "python",
   "name": "python3"
  },
  "language_info": {
   "codemirror_mode": {
    "name": "ipython",
    "version": 3
   },
   "file_extension": ".py",
   "mimetype": "text/x-python",
   "name": "python",
   "nbconvert_exporter": "python",
   "pygments_lexer": "ipython3",
   "version": "3.11.4"
  }
 },
 "nbformat": 4,
 "nbformat_minor": 5
}
