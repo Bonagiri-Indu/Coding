{
 "cells": [
  {
   "cell_type": "code",
   "execution_count": 9,
   "id": "a68e45c6",
   "metadata": {},
   "outputs": [
    {
     "name": "stdout",
     "output_type": "stream",
     "text": [
      "enter a word: indu harika nandhu indu\n",
      "2\n"
     ]
    }
   ],
   "source": [
    "word=input(\"enter a word: \")\n",
    "count= word.count(\"indu\")\n",
    "print(count)"
   ]
  },
  {
   "cell_type": "code",
   "execution_count": 6,
   "id": "dd6f88f2",
   "metadata": {},
   "outputs": [
    {
     "name": "stdout",
     "output_type": "stream",
     "text": [
      "enter a word: yutyut\n",
      "YUTYUT\n"
     ]
    }
   ],
   "source": [
    "word=input(\"enter a word: \")\n",
    "upper=word.upper()\n",
    "print(word.upper())"
   ]
  },
  {
   "cell_type": "code",
   "execution_count": 7,
   "id": "7d39aedc",
   "metadata": {},
   "outputs": [
    {
     "name": "stdout",
     "output_type": "stream",
     "text": [
      "enter a word: hyuyu\n",
      "HYUYU\n"
     ]
    }
   ],
   "source": [
    "word=input(\"enter a word: \")\n",
    "print(word.upper())"
   ]
  },
  {
   "cell_type": "code",
   "execution_count": 2,
   "id": "b943f031",
   "metadata": {},
   "outputs": [
    {
     "name": "stdout",
     "output_type": "stream",
     "text": [
      "enter a number: indu\n",
      "True\n",
      "True\n"
     ]
    }
   ],
   "source": [
    "word=input(\"enter a number: \")\n",
    "print(word.startswith(\"indu\"))\n",
    "print(word.endswith(\"nandhu\"))\n",
    "\n"
   ]
  },
  {
   "cell_type": "code",
   "execution_count": 3,
   "id": "c4e2915e",
   "metadata": {},
   "outputs": [
    {
     "name": "stdout",
     "output_type": "stream",
     "text": [
      "enter a number: dinesh\n",
      "False\n",
      "False\n"
     ]
    }
   ],
   "source": [
    "word=input(\"enter a number: \")\n",
    "print(word.startswith(\"indu\"))\n",
    "print(word.endswith(\"nandhu\"))\n",
    "\n"
   ]
  },
  {
   "cell_type": "code",
   "execution_count": 4,
   "id": "2e3fabce",
   "metadata": {},
   "outputs": [
    {
     "name": "stdout",
     "output_type": "stream",
     "text": [
      "enter a word:  indu love nandhu\n",
      "Indu Love Nandhu\n"
     ]
    }
   ],
   "source": [
    "word=input(\"enter a word:  \")\n",
    "if word:\n",
    "    print(word.title())\n",
    "else:\n",
    "    print(\"cannot convert\")\n",
    "\n"
   ]
  },
  {
   "cell_type": "code",
   "execution_count": 3,
   "id": "a0476f49",
   "metadata": {},
   "outputs": [
    {
     "name": "stdout",
     "output_type": "stream",
     "text": [
      "enter a number: dinesh\n",
      "False\n",
      "False\n"
     ]
    }
   ],
   "source": [
    "word=input(\"enter a number: \")\n",
    "print(word.startswith(\"indu\"))\n",
    "print(word.endswith(\"nandhu\"))"
   ]
  },
  {
   "cell_type": "code",
   "execution_count": 3,
   "id": "f89a58dc",
   "metadata": {},
   "outputs": [
    {
     "name": "stdout",
     "output_type": "stream",
     "text": [
      "enter a number: dinesh\n",
      "False\n",
      "False\n"
     ]
    }
   ],
   "source": [
    "word=input(\"enter a number: \")\n",
    "print()"
   ]
  },
  {
   "cell_type": "code",
   "execution_count": null,
   "id": "db56df73",
   "metadata": {},
   "outputs": [],
   "source": []
  }
 ],
 "metadata": {
  "kernelspec": {
   "display_name": "Python 3 (ipykernel)",
   "language": "python",
   "name": "python3"
  },
  "language_info": {
   "codemirror_mode": {
    "name": "ipython",
    "version": 3
   },
   "file_extension": ".py",
   "mimetype": "text/x-python",
   "name": "python",
   "nbconvert_exporter": "python",
   "pygments_lexer": "ipython3",
   "version": "3.11.4"
  }
 },
 "nbformat": 4,
 "nbformat_minor": 5
}
