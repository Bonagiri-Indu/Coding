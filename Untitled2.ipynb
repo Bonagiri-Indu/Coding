{
 "cells": [
  {
   "cell_type": "code",
   "execution_count": 1,
   "id": "bf5b5d9d",
   "metadata": {},
   "outputs": [
    {
     "name": "stdout",
     "output_type": "stream",
     "text": [
      "enter a nuber:GFTYTRTRFTREDYR\n",
      "all letters not alphabets: GFTYTRTRFTREDYR \n"
     ]
    }
   ],
   "source": [
    "word=input(\"enter a nuber:\")\n",
    "if False:\n",
    "    print(f\"all letters alphabets: {word} \")\n",
    "else:\n",
    "    print(f\"all letters not alphabets: {word} \")\n"
   ]
  },
  {
   "cell_type": "code",
   "execution_count": 4,
   "id": "f7eed7b9",
   "metadata": {},
   "outputs": [
    {
     "name": "stdout",
     "output_type": "stream",
     "text": [
      "enter a word:  ghjj kiijkhjh kjk kj \n",
      "['ghjj', 'kiijkhjh', 'kjk', 'kj'] <class 'list'>\n"
     ]
    }
   ],
   "source": [
    "word=input(\"enter a word:  \")\n",
    "text=word.split()\n",
    "print(text,type(text))\n",
    "\n"
   ]
  },
  {
   "cell_type": "code",
   "execution_count": 5,
   "id": "62fd34fe",
   "metadata": {},
   "outputs": [
    {
     "name": "stdout",
     "output_type": "stream",
     "text": [
      "enter a word:  ujkjj ijk jik kijk jk indy ikj\n",
      "['ujkjj ', 'jk j', 'k k', 'jk jk ', 'ndy ', 'kj'] <class 'list'>\n"
     ]
    }
   ],
   "source": [
    "word=input(\"enter a word:  \")\n",
    "text=word.split(\"i\")\n",
    "print(text,type(text))\n",
    "\n"
   ]
  },
  {
   "cell_type": "code",
   "execution_count": 7,
   "id": "2efe0b62",
   "metadata": {},
   "outputs": [
    {
     "name": "stdout",
     "output_type": "stream",
     "text": [
      "the string ofter using strip method: dinesh laptop is old\n"
     ]
    }
   ],
   "source": [
    "word=\"dinesh laptop is old\"\n",
    "\n",
    "print(f\"the string ofter using strip method: {word.strip()}\")\n",
    "\n"
   ]
  },
  {
   "cell_type": "code",
   "execution_count": 8,
   "id": "e3efc810",
   "metadata": {},
   "outputs": [
    {
     "name": "stdout",
     "output_type": "stream",
     "text": [
      "the string ofter using strip method: word.strip()  ='dinesh laptop is old'\n"
     ]
    }
   ],
   "source": [
    "word=\"dinesh laptop is old\"\n",
    "\n",
    "print(f\"the string ofter using strip method: {word.strip()  =}\")\n",
    "\n"
   ]
  },
  {
   "cell_type": "code",
   "execution_count": null,
   "id": "5e944878",
   "metadata": {},
   "outputs": [],
   "source": []
  },
  {
   "cell_type": "code",
   "execution_count": null,
   "id": "39c25c45",
   "metadata": {},
   "outputs": [],
   "source": []
  }
 ],
 "metadata": {
  "kernelspec": {
   "display_name": "Python 3 (ipykernel)",
   "language": "python",
   "name": "python3"
  },
  "language_info": {
   "codemirror_mode": {
    "name": "ipython",
    "version": 3
   },
   "file_extension": ".py",
   "mimetype": "text/x-python",
   "name": "python",
   "nbconvert_exporter": "python",
   "pygments_lexer": "ipython3",
   "version": "3.11.4"
  }
 },
 "nbformat": 4,
 "nbformat_minor": 5
}
