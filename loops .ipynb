{
 "cells": [
  {
   "cell_type": "markdown",
   "id": "71a38a8a",
   "metadata": {},
   "source": [
    "1. What is the purpose of a loop in programming?\n",
    "  - a. To declare variables\n",
    "  - b. To execute a block of code repeatedly\n",
    "  - c. To define functions\n",
    "  - d. To perform mathematical calculations\n",
    "  \n",
    " Answer: b"
   ]
  },
  {
   "cell_type": "markdown",
   "id": "c33dccbf",
   "metadata": {},
   "source": [
    "----\n",
    "2. Which of the following loops is used for definite iteration (a fixed number of times)?\n",
    "  - a. for loop\n",
    "  - b. while loop\n",
    "  - c. do-while loop\n",
    "  - d. if-else loop\n",
    "  \n",
    "   Answer: a"
   ]
  },
  {
   "cell_type": "markdown",
   "id": "d7692c41",
   "metadata": {},
   "source": [
    "----\n",
    "3. Which loop is ideal when you want to iterate over elements of a collection (e.g., a list)?\n",
    "  - a. for loop\n",
    "  - b. while loop\n",
    "  - c. do-while loop\n",
    "  - d. if-else loop\n",
    "  Answer: a"
   ]
  },
  {
   "cell_type": "markdown",
   "id": "acc51850",
   "metadata": {},
   "source": [
    "---\n",
    "5. What is the purpose of the `range()` function in a for loop?\n",
    "   - a. To generate random numbers\n",
    "   - b. To create a list of numbers for iteration\n",
    "   - c. To calculate mathematical sequences\n",
    "   - d. To perform string operations\n",
    "  \n",
    "  Answer:b"
   ]
  },
  {
   "cell_type": "markdown",
   "id": "d0d673a7",
   "metadata": {},
   "source": [
    "---\n",
    "6. How many times will the following loop run?\n",
    "   ```python\n",
    "   for i in range(5):\n",
    "   ```\n",
    "  - a. 5 times\n",
    "  - b. 4 times\n",
    "  - c. Infinitely\n",
    "  - d. 0 times\n",
    "  \n",
    "Answer:a"
   ]
  },
  {
   "cell_type": "markdown",
   "id": "8c893073",
   "metadata": {},
   "source": [
    "----\n",
    "7. In Python, which loop is used when you want to keep executing a block of code as long as a condition is true?\n",
    "   - a. for loop\n",
    "   - b. while loop\n",
    "   - c. do-while loop\n",
    "   - d. if-else loop\n",
    " Answer:"
   ]
  },
  {
   "cell_type": "markdown",
   "id": "c0a4b433",
   "metadata": {},
   "source": [
    "---\n",
    "9. What is the output of the following code?\n",
    "   ```python\n",
    "   x = 0\n",
    "   while x < 5:\n",
    "       x += 1\n",
    "   print(x)\n",
    "   ```\n",
    "   - a. 0\n",
    "   - b. 4\n",
    "   - c. 5\n",
    "   - d. 6\n",
    "   \n",
    "Answer:"
   ]
  },
  {
   "cell_type": "code",
   "execution_count": 3,
   "id": "a4ab66dc",
   "metadata": {},
   "outputs": [
    {
     "name": "stdout",
     "output_type": "stream",
     "text": [
      "x=1\n",
      "x=2\n",
      "x=3\n",
      "x=4\n",
      "x=5\n",
      "x=6\n",
      "6\n"
     ]
    }
   ],
   "source": [
    "# ---\n",
    "x = 0\n",
    "while x <= 5: # 0 1 2 3 4 5 6\n",
    "    x += 1\n",
    "    print(f\"{x=}\")\n",
    "print(x)\n",
    "# Answer:"
   ]
  },
  {
   "cell_type": "code",
   "execution_count": 4,
   "id": "d5ba47a0",
   "metadata": {},
   "outputs": [
    {
     "name": "stdout",
     "output_type": "stream",
     "text": [
      "x=1\n",
      "x=2\n",
      "x=3\n",
      "x=4\n",
      "x=5\n",
      "5\n"
     ]
    }
   ],
   "source": [
    "# ---\n",
    "x = 0\n",
    "while x < 5: # 0 1 2 3 4 5\n",
    "    x += 1\n",
    "    print(f\"{x=}\")\n",
    "print(x)\n",
    "# Answer:"
   ]
  },
  {
   "cell_type": "markdown",
   "id": "b97eb2f7",
   "metadata": {},
   "source": [
    "---\n",
    "14. What is an infinite loop?\n",
    "    - a. A loop that never runs\n",
    "    - b. A loop that repeats a fixed number of times\n",
    "    - c. A loop that runs forever\n",
    "    - d. A loop with no conditions\n",
    "    \n",
    "Answer: c. A loop that runs foreve"
   ]
  },
  {
   "cell_type": "code",
   "execution_count": 1,
   "id": "e06f5005",
   "metadata": {},
   "outputs": [],
   "source": [
    "while False: # 0 1 2 3 4 5\n",
    "    x += 1\n",
    "    print(f\"{x=}\")\n",
    "    print(f\"next:{x = }\")\n"
   ]
  },
  {
   "cell_type": "markdown",
   "id": "c39003d1",
   "metadata": {},
   "source": [
    "---\n",
    "\n",
    "Answer:"
   ]
  },
  {
   "cell_type": "markdown",
   "id": "51e932f1",
   "metadata": {},
   "source": [
    "---\n",
    "17. What is the output of the following code?\n",
    "    ```python\n",
    "    for i in range(3):\n",
    "        for j in range(2):\n",
    "            print(i, j)\n",
    "    ```\n",
    "   - a. 0 0\n",
    "     -  0 1\n",
    "      - 1 0\n",
    "     -  1 1\n",
    "      - 2 0\n",
    "      - 2 1\n",
    "   - b. 0 0\n",
    "      - 1 1\n",
    "      - 2 2\n",
    "   - c. 0 1\n",
    "     -  1 2\n",
    "      - 2 3\n",
    "   - d. 1 0\n",
    "      - 2 1\n",
    "      - 3 2\n",
    "\n",
    "Answer:"
   ]
  },
  {
   "cell_type": "code",
   "execution_count": 9,
   "id": "65c816d7",
   "metadata": {},
   "outputs": [
    {
     "name": "stdout",
     "output_type": "stream",
     "text": [
      "\n",
      "going to inner loop  i = 0\n",
      "0 0\n",
      "0 1\n",
      "going to outer loop  i = 0   j = 1\n",
      "\n",
      "going to inner loop  i = 1\n",
      "1 0\n",
      "1 1\n",
      "going to outer loop  i = 1   j = 1\n",
      "\n",
      "going to inner loop  i = 2\n",
      "2 0\n",
      "2 1\n",
      "going to outer loop  i = 2   j = 1\n"
     ]
    }
   ],
   "source": [
    "for i in range(3):\n",
    "    print(f\"\\ngoing to inner loop  {i = }\")\n",
    "    for j in range(0,2): #start < end\n",
    "        print(i, j) # 0 0 , 0 1,  1 0, 1 1 ,2 0, 2 1\n",
    "        \n",
    "    print(f\"going to outer loop  {i = }   {j = }\")"
   ]
  },
  {
   "cell_type": "markdown",
   "id": "a48a66e8",
   "metadata": {},
   "source": [
    "---\n",
    "\n",
    "20. What does the `range(5)` function produce?\n",
    "    - a. A list containing [0, 1, 2, 3, 4]\n",
    "    - b. A list containing [1, 2, 3, 4, 5]\n",
    "    - c. A list containing [5, 4, 3, 2, 1, 0]\n",
    "    - d. A list containing [0, 2, 4, 6, 8]\n",
    "\n",
    "Answer:a"
   ]
  },
  {
   "cell_type": "markdown",
   "id": "1af4ccaf",
   "metadata": {},
   "source": [
    "---\n",
    "21. Which loop construct in Python is often used for iterating over the characters in a string?\n",
    "    - a. for loop\n",
    "    - b. while loop\n",
    "    - c. do-while loop\n",
    "    - d. if-else loop\n",
    "Answer: a"
   ]
  },
  {
   "cell_type": "markdown",
   "id": "3c89360e",
   "metadata": {},
   "source": [
    "---\n",
    "25. What is the output of the following code?\n",
    "    ```python\n",
    "    for i in range(1, 6, 2):\n",
    "        print(i, end=\" \")\n",
    "    ```\n",
    "    - a. 1 3 5\n",
    "    - b. 2 4 6\n",
    "    - c. 1 2 3 4 5\n",
    "    - d. 5 4 3 2 1\n",
    "\n",
    "Answer: a"
   ]
  },
  {
   "cell_type": "markdown",
   "id": "4768262a",
   "metadata": {},
   "source": [
    "---\n",
    "26. In Python, what does the `while True` loop create?\n",
    "   - a. An infinite loop\n",
    "   - b. A loop that runs once\n",
    "   - c. A loop with a fixed number of iterations\n",
    "   - d. A loop that exits immediately\n",
    "\n",
    "Answer:a"
   ]
  },
  {
   "cell_type": "markdown",
   "id": "a41a6c3a",
   "metadata": {},
   "source": [
    "---\n",
    "\n",
    "28. What is the output of the following code?\n",
    "    ```python\n",
    "    x = 0\n",
    "    while x < 3:\n",
    "        print(x)\n",
    "        x = x - 1\n",
    "    ```\n",
    "   - a. 0 1 2\n",
    "   - b. 0 -1 -2\n",
    "   - c. 0 1 2 3\n",
    "   - d. This code will result in an error.\n",
    "    \n",
    "Answer:"
   ]
  },
  {
   "cell_type": "code",
   "execution_count": 1,
   "id": "ed98d25d",
   "metadata": {},
   "outputs": [],
   "source": [
    "# x = 0\n",
    "# while x < 3:\n",
    "#     print(x)\n",
    "#     x = x - 1"
   ]
  },
  {
   "cell_type": "markdown",
   "id": "34fdc373",
   "metadata": {},
   "source": [
    "---\n",
    "31. What is the difference between a `for` loop and a `while` loop?\n",
    "   - a. `for` loops are used for indefinite iteration, while `while` loops are used for definite iteration.\n",
    "   - b. `for` loops can only iterate over numbers, while `while` loops can iterate over any data type.\n",
    "   - c. `for` loops are used for definite iteration, while `while` loops are used for indefinite iteration.\n",
    "   - d. There is no difference between the two; they are used interchangeably.\n",
    "\n",
    "\n",
    "Answer: c"
   ]
  },
  {
   "cell_type": "markdown",
   "id": "0705b6d9",
   "metadata": {},
   "source": [
    "---\n",
    "33. In Python, what is the primary use of nested loops?\n",
    "    - a. To create recursive functions\n",
    "    - b. To execute multiple loops simultaneously\n",
    "    - c. To create complex data structures\n",
    "    - d. To perform repetitive tasks within another loop\n",
    "\n",
    "\n",
    "Answer:d"
   ]
  },
  {
   "cell_type": "markdown",
   "id": "aaeb15ce",
   "metadata": {},
   "source": [
    "---\n",
    "36. What is the primary purpose of the `range()` function in a `for` loop?\n",
    "   - a. To generate random numbers\n",
    "   - b. To create a list of numbers for iteration\n",
    "   - c. To calculate mathematical sequences\n",
    "   - d. To perform string operations\n",
    "\n",
    "\n",
    "Answer: b"
   ]
  },
  {
   "cell_type": "code",
   "execution_count": null,
   "id": "87e4a9ac",
   "metadata": {},
   "outputs": [],
   "source": [
    "---\n",
    "\n",
    "Answer:"
   ]
  },
  {
   "cell_type": "code",
   "execution_count": null,
   "id": "aa4b2c51",
   "metadata": {},
   "outputs": [],
   "source": [
    "---\n",
    "\n",
    "Answer:"
   ]
  },
  {
   "cell_type": "code",
   "execution_count": null,
   "id": "0d3ec6d7",
   "metadata": {},
   "outputs": [],
   "source": [
    "---\n",
    "\n",
    "Answer:"
   ]
  },
  {
   "cell_type": "code",
   "execution_count": null,
   "id": "453912cc",
   "metadata": {},
   "outputs": [],
   "source": [
    "---\n",
    "\n",
    "Answer:"
   ]
  },
  {
   "cell_type": "code",
   "execution_count": null,
   "id": "0d6c65ce",
   "metadata": {},
   "outputs": [],
   "source": [
    "---\n",
    "\n",
    "Answer:"
   ]
  },
  {
   "cell_type": "code",
   "execution_count": null,
   "id": "116c2e2d",
   "metadata": {},
   "outputs": [],
   "source": [
    "---\n",
    "\n",
    "Answer:"
   ]
  },
  {
   "cell_type": "code",
   "execution_count": null,
   "id": "043716f3",
   "metadata": {},
   "outputs": [],
   "source": [
    "---\n",
    "\n",
    "Answer:"
   ]
  },
  {
   "cell_type": "code",
   "execution_count": null,
   "id": "11ada349",
   "metadata": {},
   "outputs": [],
   "source": [
    "---\n",
    "\n",
    "Answer:"
   ]
  },
  {
   "cell_type": "code",
   "execution_count": null,
   "id": "7f52070a",
   "metadata": {},
   "outputs": [],
   "source": [
    "---\n",
    "\n",
    "Answer:"
   ]
  },
  {
   "cell_type": "code",
   "execution_count": null,
   "id": "394e8b1c",
   "metadata": {},
   "outputs": [],
   "source": [
    "---\n",
    "\n",
    "Answer:"
   ]
  }
 ],
 "metadata": {
  "kernelspec": {
   "display_name": "Python 3 (ipykernel)",
   "language": "python",
   "name": "python3"
  },
  "language_info": {
   "codemirror_mode": {
    "name": "ipython",
    "version": 3
   },
   "file_extension": ".py",
   "mimetype": "text/x-python",
   "name": "python",
   "nbconvert_exporter": "python",
   "pygments_lexer": "ipython3",
   "version": "3.11.4"
  }
 },
 "nbformat": 4,
 "nbformat_minor": 5
}
