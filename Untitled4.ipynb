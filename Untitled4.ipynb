{
 "cells": [
  {
   "cell_type": "code",
   "execution_count": 1,
   "id": "28ccf78a",
   "metadata": {},
   "outputs": [
    {
     "name": "stdout",
     "output_type": "stream",
     "text": [
      "enter a word: indu nandhu\n",
      "if a given string starts with a sepecified prefix and ends with a sepecified suffix string\n"
     ]
    }
   ],
   "source": [
    "word=input(\"enter a word: \")\n",
    "prefix=\"indu\"\n",
    "suffix=\"nandhu\"\n",
    "if word.startswith(prefix) and word.endswith(suffix):\n",
    "    print(f\"if a given string starts with a {sepecified: } prefix and ends with a sepecified suffix string\") \n",
    "else:\n",
    "    print(f\"if a not given string starts with a {sepecified: } prefix and ends with a sepecified suffix string\")\n"
   ]
  },
  {
   "cell_type": "code",
   "execution_count": 6,
   "id": "bc5fac79",
   "metadata": {},
   "outputs": [
    {
     "name": "stdout",
     "output_type": "stream",
     "text": [
      "enter a word: indu nandhu\n",
      "if a given string starts with a sepecified: indu and ends with a sepecified nandhu string\n"
     ]
    }
   ],
   "source": [
    "word=input(\"enter a word: \")\n",
    "prefix=\"indu\"\n",
    "suffix=\"nandhu\"\n",
    "if word.startswith(prefix) and word.endswith(suffix):\n",
    "    print(f\"if a given string starts with a sepecified: {prefix} and ends with a sepecified {suffix} string\") \n",
    "else:\n",
    "    print(f\"if a not given string starts with a sepecified {prefix} and ends with a sepecified {suffix} string\")\n"
   ]
  },
  {
   "cell_type": "code",
   "execution_count": 8,
   "id": "1ab7f0c1",
   "metadata": {},
   "outputs": [
    {
     "name": "stdout",
     "output_type": "stream",
     "text": [
      "enter a word: indu nandhu\n",
      "if a given string starts with prefix='indu' and ends with   suffix='nandhu' string\n"
     ]
    }
   ],
   "source": [
    "word=input(\"enter a word: \")\n",
    "prefix=\"indu\"\n",
    "suffix=\"nandhu\"\n",
    "if word.startswith(prefix) and word.endswith(suffix):\n",
    "    print(f\"if a given string starts with {prefix=} and ends with   {suffix=} string\") \n",
    "else:\n",
    "    print(f\"if a not given string starts with {prefix=} and ends with  {suffix=} string\")\n"
   ]
  },
  {
   "cell_type": "code",
   "execution_count": 10,
   "id": "513a4edb",
   "metadata": {},
   "outputs": [
    {
     "name": "stdout",
     "output_type": "stream",
     "text": [
      "word1='anjana'\n",
      "reverse_word='anajna'\n",
      "a given string is not a palimdrome\n"
     ]
    }
   ],
   "source": [
    "word1=\"anjana\"\n",
    "print(f\"{word1=}\")\n",
    "reverse_word=word1[::-1]\n",
    "print(f\"{reverse_word=}\")\n",
    "if word1==reverse_word:\n",
    "    print(\"a given string is palindrome\")\n",
    "else:\n",
    "    print(\"a given string is not a palimdrome\")"
   ]
  },
  {
   "cell_type": "code",
   "execution_count": null,
   "id": "31f2ddc6",
   "metadata": {},
   "outputs": [],
   "source": []
  },
  {
   "cell_type": "code",
   "execution_count": null,
   "id": "75162c7b",
   "metadata": {},
   "outputs": [],
   "source": []
  }
 ],
 "metadata": {
  "kernelspec": {
   "display_name": "Python 3 (ipykernel)",
   "language": "python",
   "name": "python3"
  },
  "language_info": {
   "codemirror_mode": {
    "name": "ipython",
    "version": 3
   },
   "file_extension": ".py",
   "mimetype": "text/x-python",
   "name": "python",
   "nbconvert_exporter": "python",
   "pygments_lexer": "ipython3",
   "version": "3.11.4"
  }
 },
 "nbformat": 4,
 "nbformat_minor": 5
}
